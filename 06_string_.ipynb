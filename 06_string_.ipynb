{
 "cells": [
  {
   "cell_type": "markdown",
   "metadata": {},
   "source": [
    "# Работа со строковыми значениями"
   ]
  },
  {
   "cell_type": "markdown",
   "metadata": {},
   "source": [
    "__Автор задач: Блохин Н.В. (NVBlokhin@fa.ru)__\n",
    "\n",
    "Материалы:\n",
    "* Макрушин С.В. Лекция \"Работа со строковыми значениям\"\n",
    "* https://pyformat.info/\n",
    "* https://docs.python.org/3/library/re.html\n",
    "    * https://docs.python.org/3/library/re.html#flags\n",
    "    * https://docs.python.org/3/library/re.html#functions\n",
    "* https://pythonru.com/primery/primery-primeneniya-regulyarnyh-vyrazheniy-v-python\n",
    "* https://kanoki.org/2019/11/12/how-to-use-regex-in-pandas/\n",
    "* https://realpython.com/nltk-nlp-python/"
   ]
  },
  {
   "cell_type": "markdown",
   "metadata": {},
   "source": [
    "## Задачи для совместного разбора"
   ]
  },
  {
   "cell_type": "markdown",
   "metadata": {},
   "source": [
    "1. Вывести на экран данные из словаря `obj` построчно в виде `k = v`, задав формат таким образом, чтобы знак равенства оказался на одной и той же позиции во всех строках. Строковые литералы обернуть в кавычки."
   ]
  },
  {
   "cell_type": "code",
   "execution_count": 1,
   "metadata": {},
   "outputs": [],
   "source": [
    "obj = {\n",
    "    \"home_page\": \"https://github.com/pypa/sampleproject\",\n",
    "    \"keywords\": \"sample setuptools development\",\n",
    "    \"license\": \"MIT\",\n",
    "}"
   ]
  },
  {
   "cell_type": "code",
   "execution_count": 2,
   "metadata": {},
   "outputs": [
    {
     "name": "stdout",
     "output_type": "stream",
     "text": [
      "\"home_page\" = \"https://github.com/pypa/sampleproject\"\n",
      "\"keywords\"  = \"sample setuptools development\"\n",
      "\"license\"   = \"MIT\"     \n"
     ]
    }
   ],
   "source": [
    "for k, v in obj.items():\n",
    "  print(f'''{'\"'+k+'\"':11} = {'\"'+ v+ '\"':10}''')"
   ]
  },
  {
   "cell_type": "markdown",
   "metadata": {},
   "source": [
    "2. Написать регулярное выражение,которое позволит найти номера групп студентов."
   ]
  },
  {
   "cell_type": "code",
   "execution_count": 3,
   "metadata": {},
   "outputs": [
    {
     "data": {
      "text/plain": [
       "0    Евгения гр.ПМ19-1\n",
       "1         Илья пм 20-4\n",
       "2            Анна 20-3\n",
       "dtype: object"
      ]
     },
     "execution_count": 3,
     "metadata": {},
     "output_type": "execute_result"
    }
   ],
   "source": [
    "import pandas as pd\n",
    "import re\n",
    "obj = pd.Series([\"Евгения гр.ПМ19-1\", \"Илья пм 20-4\", \"Анна 20-3\"])\n",
    "obj"
   ]
  },
  {
   "cell_type": "markdown",
   "metadata": {},
   "source": [
    "3. Разбейте текст формулировки задачи 2 на слова."
   ]
  },
  {
   "cell_type": "markdown",
   "metadata": {},
   "source": [
    "## Лабораторная работа 6"
   ]
  },
  {
   "cell_type": "markdown",
   "metadata": {},
   "source": [
    "### Форматирование строк"
   ]
  },
  {
   "cell_type": "markdown",
   "metadata": {},
   "source": [
    "1. Загрузите данные из файла `recipes_sample.csv` (__ЛР2__) в виде `pd.DataFrame` `recipes` При помощи форматирования строк выведите информацию об id рецепта и времени выполнения 5 случайных рецептов в виде таблицы следующего вида:\n",
    "\n",
    "    \n",
    "    |      id      |  minutes  |\n",
    "    |--------------------------|\n",
    "    |    61178     |    65     |\n",
    "    |    202352    |    80     |\n",
    "    |    364322    |    150    |\n",
    "    |    26177     |    20     |\n",
    "    |    224785    |    35     |\n",
    "    \n",
    "Обратите внимание, что ширина столбцов заранее неизвестна и должна рассчитываться динамически, в зависимости от тех данных, которые были выбраны. "
   ]
  },
  {
   "cell_type": "code",
   "execution_count": 112,
   "metadata": {},
   "outputs": [
    {
     "name": "stdout",
     "output_type": "stream",
     "text": [
      "|       id        |   minutes   |\n",
      "|-------------------------------|\n",
      "|     112277      |     60      |\n",
      "|     380164      |     45      |\n",
      "|     276362      |     15      |\n",
      "|     120836      |     45      |\n",
      "|     280219      |      5      |\n"
     ]
    }
   ],
   "source": [
    "data = pd.read_csv(\"recipes_sample.csv\")\n",
    "f5 = data.sample(5)\n",
    "w = [max(map(lambda i: len(str(i))+11, f5['id'])), # map - обращение к каждому элементу, lambda i - обращаемся к значениям не меняя их\n",
    "     max(map(lambda i: len(str(i))+11, f5['minutes']))]\n",
    "#print(w)\n",
    "print(f'|{\" id \":^{w[0]}}|{\"minutes\":^{w[1]}}|') # ^ - вывод по центру id и minutes\n",
    "print('|'+'-'*(sum(w)+1)+'|') # кол-во - второй строке\n",
    "for i,j in list(zip(f5[['id']].values, f5[['minutes']].values)):\n",
    "  print(f'|{i[0]:^{w[0]}}|{j[0]:^{w[1]}}|') # axis = 0 по столбцам"
   ]
  },
  {
   "cell_type": "code",
   "execution_count": 5,
   "metadata": {},
   "outputs": [
    {
     "data": {
      "text/html": [
       "<div>\n",
       "<style scoped>\n",
       "    .dataframe tbody tr th:only-of-type {\n",
       "        vertical-align: middle;\n",
       "    }\n",
       "\n",
       "    .dataframe tbody tr th {\n",
       "        vertical-align: top;\n",
       "    }\n",
       "\n",
       "    .dataframe thead th {\n",
       "        text-align: right;\n",
       "    }\n",
       "</style>\n",
       "<table border=\"1\" class=\"dataframe\">\n",
       "  <thead>\n",
       "    <tr style=\"text-align: right;\">\n",
       "      <th></th>\n",
       "      <th>name</th>\n",
       "      <th>id</th>\n",
       "      <th>minutes</th>\n",
       "      <th>contributor_id</th>\n",
       "      <th>submitted</th>\n",
       "      <th>n_steps</th>\n",
       "      <th>description</th>\n",
       "      <th>n_ingredients</th>\n",
       "    </tr>\n",
       "  </thead>\n",
       "  <tbody>\n",
       "    <tr>\n",
       "      <th>0</th>\n",
       "      <td>george s at the cove  black bean soup</td>\n",
       "      <td>44123</td>\n",
       "      <td>90</td>\n",
       "      <td>35193</td>\n",
       "      <td>2002-10-25</td>\n",
       "      <td>NaN</td>\n",
       "      <td>an original recipe created by chef scott meska...</td>\n",
       "      <td>18.0</td>\n",
       "    </tr>\n",
       "    <tr>\n",
       "      <th>1</th>\n",
       "      <td>healthy for them  yogurt popsicles</td>\n",
       "      <td>67664</td>\n",
       "      <td>10</td>\n",
       "      <td>91970</td>\n",
       "      <td>2003-07-26</td>\n",
       "      <td>NaN</td>\n",
       "      <td>my children and their friends ask for my homem...</td>\n",
       "      <td>NaN</td>\n",
       "    </tr>\n",
       "    <tr>\n",
       "      <th>2</th>\n",
       "      <td>i can t believe it s spinach</td>\n",
       "      <td>38798</td>\n",
       "      <td>30</td>\n",
       "      <td>1533</td>\n",
       "      <td>2002-08-29</td>\n",
       "      <td>NaN</td>\n",
       "      <td>these were so go, it surprised even me.</td>\n",
       "      <td>8.0</td>\n",
       "    </tr>\n",
       "    <tr>\n",
       "      <th>3</th>\n",
       "      <td>italian  gut busters</td>\n",
       "      <td>35173</td>\n",
       "      <td>45</td>\n",
       "      <td>22724</td>\n",
       "      <td>2002-07-27</td>\n",
       "      <td>NaN</td>\n",
       "      <td>my sister-in-law made these for us at a family...</td>\n",
       "      <td>NaN</td>\n",
       "    </tr>\n",
       "    <tr>\n",
       "      <th>4</th>\n",
       "      <td>love is in the air  beef fondue   sauces</td>\n",
       "      <td>84797</td>\n",
       "      <td>25</td>\n",
       "      <td>4470</td>\n",
       "      <td>2004-02-23</td>\n",
       "      <td>4.0</td>\n",
       "      <td>i think a fondue is a very romantic casual din...</td>\n",
       "      <td>NaN</td>\n",
       "    </tr>\n",
       "    <tr>\n",
       "      <th>...</th>\n",
       "      <td>...</td>\n",
       "      <td>...</td>\n",
       "      <td>...</td>\n",
       "      <td>...</td>\n",
       "      <td>...</td>\n",
       "      <td>...</td>\n",
       "      <td>...</td>\n",
       "      <td>...</td>\n",
       "    </tr>\n",
       "    <tr>\n",
       "      <th>29995</th>\n",
       "      <td>zurie s holey rustic olive and cheddar bread</td>\n",
       "      <td>267661</td>\n",
       "      <td>80</td>\n",
       "      <td>200862</td>\n",
       "      <td>2007-11-25</td>\n",
       "      <td>16.0</td>\n",
       "      <td>this is based on a french recipe but i changed...</td>\n",
       "      <td>10.0</td>\n",
       "    </tr>\n",
       "    <tr>\n",
       "      <th>29996</th>\n",
       "      <td>zwetschgenkuchen  bavarian plum cake</td>\n",
       "      <td>386977</td>\n",
       "      <td>240</td>\n",
       "      <td>177443</td>\n",
       "      <td>2009-08-24</td>\n",
       "      <td>NaN</td>\n",
       "      <td>this is a traditional fresh plum cake, thought...</td>\n",
       "      <td>11.0</td>\n",
       "    </tr>\n",
       "    <tr>\n",
       "      <th>29997</th>\n",
       "      <td>zwiebelkuchen   southwest german onion cake</td>\n",
       "      <td>103312</td>\n",
       "      <td>75</td>\n",
       "      <td>161745</td>\n",
       "      <td>2004-11-03</td>\n",
       "      <td>NaN</td>\n",
       "      <td>this is a traditional late summer early fall s...</td>\n",
       "      <td>NaN</td>\n",
       "    </tr>\n",
       "    <tr>\n",
       "      <th>29998</th>\n",
       "      <td>zydeco soup</td>\n",
       "      <td>486161</td>\n",
       "      <td>60</td>\n",
       "      <td>227978</td>\n",
       "      <td>2012-08-29</td>\n",
       "      <td>NaN</td>\n",
       "      <td>this is a delicious soup that i originally fou...</td>\n",
       "      <td>NaN</td>\n",
       "    </tr>\n",
       "    <tr>\n",
       "      <th>29999</th>\n",
       "      <td>cookies by design   cookies on a stick</td>\n",
       "      <td>298512</td>\n",
       "      <td>29</td>\n",
       "      <td>506822</td>\n",
       "      <td>2008-04-15</td>\n",
       "      <td>9.0</td>\n",
       "      <td>i've heard of the 'cookies by design' company,...</td>\n",
       "      <td>10.0</td>\n",
       "    </tr>\n",
       "  </tbody>\n",
       "</table>\n",
       "<p>30000 rows × 8 columns</p>\n",
       "</div>"
      ],
      "text/plain": [
       "                                               name      id  minutes  \\\n",
       "0             george s at the cove  black bean soup   44123       90   \n",
       "1                healthy for them  yogurt popsicles   67664       10   \n",
       "2                      i can t believe it s spinach   38798       30   \n",
       "3                              italian  gut busters   35173       45   \n",
       "4          love is in the air  beef fondue   sauces   84797       25   \n",
       "...                                             ...     ...      ...   \n",
       "29995  zurie s holey rustic olive and cheddar bread  267661       80   \n",
       "29996          zwetschgenkuchen  bavarian plum cake  386977      240   \n",
       "29997   zwiebelkuchen   southwest german onion cake  103312       75   \n",
       "29998                                   zydeco soup  486161       60   \n",
       "29999        cookies by design   cookies on a stick  298512       29   \n",
       "\n",
       "       contributor_id   submitted  n_steps  \\\n",
       "0               35193  2002-10-25      NaN   \n",
       "1               91970  2003-07-26      NaN   \n",
       "2                1533  2002-08-29      NaN   \n",
       "3               22724  2002-07-27      NaN   \n",
       "4                4470  2004-02-23      4.0   \n",
       "...               ...         ...      ...   \n",
       "29995          200862  2007-11-25     16.0   \n",
       "29996          177443  2009-08-24      NaN   \n",
       "29997          161745  2004-11-03      NaN   \n",
       "29998          227978  2012-08-29      NaN   \n",
       "29999          506822  2008-04-15      9.0   \n",
       "\n",
       "                                             description  n_ingredients  \n",
       "0      an original recipe created by chef scott meska...           18.0  \n",
       "1      my children and their friends ask for my homem...            NaN  \n",
       "2                these were so go, it surprised even me.            8.0  \n",
       "3      my sister-in-law made these for us at a family...            NaN  \n",
       "4      i think a fondue is a very romantic casual din...            NaN  \n",
       "...                                                  ...            ...  \n",
       "29995  this is based on a french recipe but i changed...           10.0  \n",
       "29996  this is a traditional fresh plum cake, thought...           11.0  \n",
       "29997  this is a traditional late summer early fall s...            NaN  \n",
       "29998  this is a delicious soup that i originally fou...            NaN  \n",
       "29999  i've heard of the 'cookies by design' company,...           10.0  \n",
       "\n",
       "[30000 rows x 8 columns]"
      ]
     },
     "execution_count": 5,
     "metadata": {},
     "output_type": "execute_result"
    }
   ],
   "source": [
    "data"
   ]
  },
  {
   "cell_type": "markdown",
   "metadata": {},
   "source": [
    "2\\. Напишите функцию `show_info`, которая по данным о рецепте создает строку (в смысле объекта python) с описанием следующего вида:\n",
    "\n",
    "```\n",
    "\"Название Из Нескольких Слов\"\n",
    "\n",
    "1. Шаг 1\n",
    "2. Шаг 2\n",
    "----------\n",
    "Автор: contributor_id\n",
    "Среднее время приготовления: minutes минут\n",
    "```\n",
    "\n",
    "    \n",
    "Данные для создания строки получите из файлов `recipes_sample.csv` (__ЛР2__) и `steps_sample.xml` (__ЛР3__). \n",
    "Вызовите данную функцию для рецепта с id `170895` и выведите (через `print`) полученную строку на экран."
   ]
  },
  {
   "cell_type": "code",
   "execution_count": 118,
   "metadata": {},
   "outputs": [
    {
     "name": "stdout",
     "output_type": "stream",
     "text": [
      "\"<built-in method title of str object at 0x000002754E39E0D0>\"\n",
      "\n",
      "1. Clean the leeks and discard the dark green portions \n",
      "2. Cut the leeks lengthwise then into one-inch pieces \n",
      "3. Melt the butter in a medium skillet , med \n",
      "4. Heat \n",
      "5. Add the garlic and fry 'til fragrant \n",
      "6. Add leeks and fry until the leeks are tender , about 6-minutes \n",
      "7. Meanwhile , peel and chunk the parsnips into one-inch pieces \n",
      "8. Place in a steaming basket and steam 'til they are as tender as you prefer \n",
      "9. I like them fork-tender \n",
      "10. Drain parsnips and add to the skillet with the leeks \n",
      "11. Add salt and pepper \n",
      "12. Gently sautee together for 5-minutes \n",
      "13. At this point you can serve it , or continue on and cream it: \n",
      "14. In a jar with a screw top , add the half-n-half and arrowroot \n",
      "15. Shake 'til blended \n",
      "16. Turn heat to low under the leeks and parsnips \n",
      "17. Pour in the arrowroot mixture , stirring gently as you pour \n",
      "18. If too thick , gradually add the water \n",
      "19. Let simmer for a couple of minutes \n",
      "20. Taste to adjust seasoning , probably an additional 1 / 2 teaspoon salt \n",
      "21. Serve warm \n",
      "----------\n",
      "Автор: 170895\n",
      "Среднее время приготовления: 27 минут\n",
      "\n"
     ]
    }
   ],
   "source": [
    "import pandas as pd\n",
    "from bs4 import BeautifulSoup\n",
    "with open('steps_sample.xml', 'r') as data:\n",
    "  r = BeautifulSoup(data, 'xml')\n",
    "\n",
    "# считываем табличку csv\n",
    "data = pd.read_csv('recipes_sample.csv')\n",
    "id = []\n",
    "st = []\n",
    "for recipe in r.recipes.find_all('recipe'): # обращение к кажому элементу с тегом 'recipe'\n",
    "    id += [i.next for i in recipe.find_all('id')] # к списку id добавляется все значения с тегом 'id'/ next() - извлекаем значения\n",
    "    st.append([step.next for step in recipe.steps.find_all('step')]) # добавление списка шагов всех значений с тегом 'step'\n",
    "\n",
    "d = {i:j for i,j in zip(id, st)} # создаем зипку самих шагов\n",
    "\n",
    "def show_info(na, st = \" \", min = \" \", au = \" \"):\n",
    "  stroka = f'\"{na.title}\"\\n\\n' #.title верхний регистр первой буквы, все остальные ПРОПИСНЫЕ в названии рецепта!!!\n",
    "  for i in range(len(st)):\n",
    "    stroka += f'{i+1}. {st[i].capitalize()} \\n'\n",
    "  stroka += f'----------\\n' + f'Автор: {au}\\n' + f'Среднее время приготовления: {min} минут\\n'\n",
    "  print(stroka)\n",
    "\n",
    "show_info(\n",
    "        na=\"leeks and parsnips sauteed or creamed\",\n",
    "        st=[\n",
    "            'clean the leeks and discard the dark green portions',\n",
    "            'cut the leeks lengthwise then into one-inch pieces',\n",
    "            'melt the butter in a medium skillet , med',\n",
    "            'heat',\n",
    "            \"add the garlic and fry 'til fragrant\",\n",
    "            'add leeks and fry until the leeks are tender , about 6-minutes',\n",
    "            'meanwhile , peel and chunk the parsnips into one-inch pieces',\n",
    "            \"place in a steaming basket and steam 'til they are as tender as you prefer\",\n",
    "            'i like them fork-tender',\n",
    "            'drain parsnips and add to the skillet with the leeks',\n",
    "            'add salt and pepper',\n",
    "            'gently sautee together for 5-minutes',\n",
    "            'at this point you can serve it , or continue on and cream it:',\n",
    "            'in a jar with a screw top , add the half-n-half and arrowroot',\n",
    "            \"shake 'til blended\",\n",
    "            'turn heat to low under the leeks and parsnips',\n",
    "            'pour in the arrowroot mixture , stirring gently as you pour',\n",
    "            'if too thick , gradually add the water',\n",
    "            'let simmer for a couple of minutes',\n",
    "            'taste to adjust seasoning , probably an additional 1 / 2 teaspoon salt',\n",
    "            'serve warm',\n",
    "        ],\n",
    "        au=170895,\n",
    "        min=27,\n",
    "    )"
   ]
  },
  {
   "cell_type": "markdown",
   "metadata": {},
   "source": [
    "## Работа с регулярными выражениями"
   ]
  },
  {
   "cell_type": "markdown",
   "metadata": {},
   "source": [
    "3\\. Напишите регулярное выражение, которое ищет следующий паттерн в строке: число (1 цифра или более), затем пробел, затем слова: hour или hours или minute или minutes. Произведите поиск по данному регулярному выражению в каждом шаге рецепта с id 25082. Выведите на экран все непустые результаты, найденные по данному шаблону."
   ]
  },
  {
   "cell_type": "code",
   "execution_count": 123,
   "metadata": {},
   "outputs": [
    {
     "data": {
      "text/plain": [
       "['proof yeast in half a cup of the water , with about a teaspoon of flour- let it sit , covered , until it becomes bubbly& active',\n",
       " 'combine the rest of the water with the yeast / water in a large bowl , and gradually add about half of the flour',\n",
       " 'stir the mixture about 100 times in the same direction , until it is well-mixed and strands are beginning to form',\n",
       " 'stir in the salt and oil',\n",
       " 'add the remaining flour half a cup at a time , stirring well , until it is too stiff to stir with a spoon',\n",
       " 'turn out onto a lightly floured board and knead for about 20 minutes , adding flour as nescessary to keep the dough from sticking to the board',\n",
       " 'the dough should be springy and nice to work with',\n",
       " 'when it has been sufficiently kneaded , cover it with a damp cloth for about 10 minutes and wash and grease the bowl lightly',\n",
       " 'after it has rested , knead the dough a few more times and place it in the bowl , covered with the damp cloth , a plastic bag , and maybe a plate',\n",
       " 'let the dough rise until it springs back when you stick your finger in it , and it is about twice the size as it was before (this takes about 2 hours',\n",
       " 'longer or shorter depending on the room temperature- i prefer a longer rise , because it allows the flavour to develop more',\n",
       " \"but sometimes you just don't have time for that sort of thing)\",\n",
       " 'deflate the dough by punching or kneading it a few times , and let it rise again- this time , it should take about half the amount of time as it did before',\n",
       " 'when the dough has risen twice , deflate it again and cover it with the damp cloth again for about 10 minutes , then divide it into and shape it into loaves , buns , etc',\n",
       " 'let the shaped dough rise on a baking sheet or in a loaf-pan for about an hour maybe- it will rise a bit more in the oven',\n",
       " \"slash the top of the bread if you want , so that it doesn't bust open in the oven\",\n",
       " 'bake at 400 for 20 minutes , and then turn the oven down to 350 and bake for 20-30 minutes longer , until the loaf is a lovely brown and sounds hollow when you thump it on the bottom',\n",
       " 'try to let the loaf cool before you tear into it']"
      ]
     },
     "execution_count": 123,
     "metadata": {},
     "output_type": "execute_result"
    }
   ],
   "source": [
    "import re\n",
    "st= d['25082']\n",
    "st"
   ]
  },
  {
   "cell_type": "code",
   "execution_count": 126,
   "metadata": {},
   "outputs": [
    {
     "name": "stdout",
     "output_type": "stream",
     "text": [
      "20 minutes\n",
      "10 minutes\n",
      "2 hours\n",
      "10 minutes\n",
      "20 minutes 30 minutes\n"
     ]
    }
   ],
   "source": [
    "for i in st:\n",
    "  if re.findall(r'\\d+ (?:hour[s]?|minute[s]?)', i ): \n",
    "    print(*(re.findall(r'\\d+ (?:hour[s]?|minute[s]?)', i )))\n",
    "\n",
    "# d+ - поиск числа\n",
    "# ? - знак вопроса указывает, что часы или минуты/'s' могут быть или отсутсвуют"
   ]
  },
  {
   "cell_type": "markdown",
   "metadata": {},
   "source": [
    "4\\. Напишите регулярное выражение, которое ищет шаблон вида \"this..., but\" _в начале строки_ . Между словом \"this\" и частью \", but\" может находиться произвольное число букв, цифр, знаков подчеркивания и пробелов. Никаких других символов вместо многоточия быть не может. Пробел между запятой и словом \"but\" может присутствовать или отсутствовать.\n",
    "\n",
    "Используя строковые методы `pd.Series`, выясните, для каких рецептов данный шаблон содержится в тексте описания. Выведите на экран количество таких рецептов и 3 примера подходящих описаний (текст описания должен быть виден на экране полностью)."
   ]
  },
  {
   "cell_type": "code",
   "execution_count": 132,
   "metadata": {},
   "outputs": [
    {
     "name": "stdout",
     "output_type": "stream",
     "text": [
      "155\n",
      "1. This cookie is made without flour and without sweetened condensed milk.  light and chewy.  i prefer using unsweetened coconut, but sweetened is fine.  this was my grandmother's recipe... probably from better homes and gardens.  they are flat, not the traditional mounded cookie.  perfect for dipping!\n",
      "2. This is a moist, buttery apple cake.  the dough is best made the night before, put in the fridge and then filled and baked the next morning.\n",
      "3. This is a very refreshing, nice summer dessert. very simple to prepare. you can use any pie filling that you wish, but we like lemon the best...it makes a nice contrast with the sweetness of the cream cheese mixture.\n"
     ]
    }
   ],
   "source": [
    "s = data.dropna()[data.dropna().description.str.contains('^this[A-Za-z0-9.,?! ]+, ?but')]['description']\n",
    "# data.dropna().description выбирает столбец \"description\" из оставшихся строк после удаления отсутствующих значений\n",
    "# str.contains('^this[A-Za-z0-9.,?! ]+, ?but') - фильтрует строки (латиница + знаки)\n",
    "# ^ - начало строки\n",
    "print(len(s))\n",
    "for i in range(3):\n",
    "  print(str(i+1)+'.', s.iloc[i].capitalize())"
   ]
  },
  {
   "cell_type": "markdown",
   "metadata": {},
   "source": [
    "5\\. В текстах шагов рецептов обыкновенные дроби имеют вид \"a / b\". Используя регулярные выражения, уберите в тексте шагов рецепта с id 72367 пробелы до и после символа дроби. Выведите на экран шаги этого рецепта после их изменения."
   ]
  },
  {
   "cell_type": "code",
   "execution_count": 10,
   "metadata": {},
   "outputs": [
    {
     "data": {
      "text/plain": [
       "['mix butter , flour , 1 / 3 c',\n",
       " 'sugar and 1-1 / 4 t',\n",
       " 'vanilla',\n",
       " 'press into greased 9\" springform pan',\n",
       " 'mix cream cheese , 1 / 4 c',\n",
       " 'sugar , eggs and 1 / 2 t',\n",
       " 'vanilla beating until fluffy',\n",
       " 'pour over dough',\n",
       " 'combine apples , 1 / 3 c',\n",
       " 'sugar and cinnamon',\n",
       " 'arrange on top of cream cheese mixture and sprinkle with almonds',\n",
       " 'bake at 350 for 45-55 minutes , or until tester comes out clean']"
      ]
     },
     "execution_count": 10,
     "metadata": {},
     "output_type": "execute_result"
    }
   ],
   "source": [
    "import re\n",
    "st= d['72367']\n",
    "st"
   ]
  },
  {
   "cell_type": "code",
   "execution_count": 138,
   "metadata": {},
   "outputs": [
    {
     "name": "stdout",
     "output_type": "stream",
     "text": [
      "mix butter , flour , 1/3 c\n",
      "sugar and 1-1/4 t\n",
      "vanilla\n",
      "press into greased 9\" springform pan\n",
      "mix cream cheese , 1/4 c\n",
      "sugar , eggs and 1/2 t\n",
      "vanilla beating until fluffy\n",
      "pour over dough\n",
      "combine apples , 1/3 c\n",
      "sugar and cinnamon\n",
      "arrange on top of cream cheese mixture and sprinkle with almonds\n",
      "bake at 350 for 45-55 minutes , or until tester comes out clean\n"
     ]
    }
   ],
   "source": [
    "for i in st:\n",
    "    new = re.sub(r'\\s*/\\s*', '/', i)\n",
    "    print(new)"
   ]
  },
  {
   "cell_type": "markdown",
   "metadata": {},
   "source": [
    "### Сегментация текста"
   ]
  },
  {
   "cell_type": "markdown",
   "metadata": {},
   "source": [
    "6\\. Разбейте тексты шагов рецептов на слова при помощи пакета `nltk`. Посчитайте и выведите на экран кол-во уникальных слов среди всех рецептов. Словом называется любая последовательность алфавитных символов (для проверки можно воспользоваться `str.isalpha`). При подсчете количества уникальных слов не учитывайте регистр."
   ]
  },
  {
   "cell_type": "code",
   "execution_count": 139,
   "metadata": {},
   "outputs": [],
   "source": [
    "from bs4 import BeautifulSoup\n",
    "with open('steps_sample.xml', 'r') as data:\n",
    "  r = BeautifulSoup(data, 'xml')"
   ]
  },
  {
   "cell_type": "code",
   "execution_count": 140,
   "metadata": {},
   "outputs": [
    {
     "name": "stderr",
     "output_type": "stream",
     "text": [
      "[nltk_data] Downloading package punkt to\n",
      "[nltk_data]     C:\\Users\\sibir\\AppData\\Roaming\\nltk_data...\n",
      "[nltk_data]   Package punkt is already up-to-date!\n",
      "[nltk_data] Downloading package averaged_perceptron_tagger to\n",
      "[nltk_data]     C:\\Users\\sibir\\AppData\\Roaming\\nltk_data...\n",
      "[nltk_data]   Package averaged_perceptron_tagger is already up-to-\n",
      "[nltk_data]       date!\n"
     ]
    },
    {
     "data": {
      "text/plain": [
       "True"
      ]
     },
     "execution_count": 140,
     "metadata": {},
     "output_type": "execute_result"
    }
   ],
   "source": [
    "import nltk # библиотека, которая преобразует заданный текст в список слов\n",
    "nltk.download('punkt')\n",
    "nltk.download('averaged_perceptron_tagger')"
   ]
  },
  {
   "cell_type": "code",
   "execution_count": 141,
   "metadata": {},
   "outputs": [
    {
     "name": "stdout",
     "output_type": "stream",
     "text": [
      "14926\n"
     ]
    }
   ],
   "source": [
    "st = []\n",
    "for recipe in r.recipes.find_all('recipe'):\n",
    "  st.append([step.next for step in recipe.steps.find_all('step')]) # к списку id добавляется все значения с тегом 'step'/ next() - извлекаем значения \n",
    "l = nltk.word_tokenize(' '.join([' '.join(i) for i in st])) # создание общего списка/единой строки из слов (+ пробел между ними)\n",
    "# nltk.word_tokenize - разбиение строки на список слов\n",
    "print(len(set(i.lower() for i in l if i.isalpha()))) # i.isalpha() - проверка на букву,i.lower() - переводит слово в нижний регистр \n",
    "# как раз таки при помощи set() - множество, удаляем повторяющиеся слова (находим уникальные)"
   ]
  },
  {
   "cell_type": "markdown",
   "metadata": {},
   "source": [
    "7\\. Разбейте описания рецептов из `recipes` на предложения при помощи пакета `nltk`. Найдите 5 самых длинных описаний (по количеству _предложений_) рецептов в датасете и выведите строки фрейма, соответствующие этим рецептами, в порядке убывания длины."
   ]
  },
  {
   "cell_type": "code",
   "execution_count": 146,
   "metadata": {},
   "outputs": [
    {
     "data": {
      "text/html": [
       "<div>\n",
       "<style scoped>\n",
       "    .dataframe tbody tr th:only-of-type {\n",
       "        vertical-align: middle;\n",
       "    }\n",
       "\n",
       "    .dataframe tbody tr th {\n",
       "        vertical-align: top;\n",
       "    }\n",
       "\n",
       "    .dataframe thead th {\n",
       "        text-align: right;\n",
       "    }\n",
       "</style>\n",
       "<table border=\"1\" class=\"dataframe\">\n",
       "  <thead>\n",
       "    <tr style=\"text-align: right;\">\n",
       "      <th></th>\n",
       "      <th>name</th>\n",
       "      <th>id</th>\n",
       "      <th>minutes</th>\n",
       "      <th>contributor_id</th>\n",
       "      <th>submitted</th>\n",
       "      <th>n_steps</th>\n",
       "      <th>description</th>\n",
       "      <th>n_ingredients</th>\n",
       "      <th>n_sent</th>\n",
       "    </tr>\n",
       "  </thead>\n",
       "  <tbody>\n",
       "    <tr>\n",
       "      <th>18408</th>\n",
       "      <td>my favorite buttercream icing for decorating</td>\n",
       "      <td>334113</td>\n",
       "      <td>30</td>\n",
       "      <td>681465</td>\n",
       "      <td>2008-10-30</td>\n",
       "      <td>12.0</td>\n",
       "      <td>this wonderful icing is used for icing cakes and cookies as well as for borders and art work on cakes.  it makes a delicious filling also between the layers of cakes and under fondant icing.  you can make roses but it takes 3 or more days to dry them depending on the humidity. \\r\\n\\r\\nthere are many versions of “buttercream” icing. some are made with eggs and all butter.  some varieties, you have to cook your sugar to a softball stage.  others are 100% shortening or a combination of shortening and butter.\\r\\n\\r\\neach decorator has his or her favorite.  i personally think that the best taste and textured recipe is the one that has you cook your sugar, add to whipped eggs and use pounds of butter per batch. but…. i live in a state that can easily be a 100 degrees for days on end during the summer and you know what butter does on hot days.  it melts!  a greasy puddle of melted icing on a cake plate is not something i want to look at or eat.  \\r\\n\\r\\nyour top notch decorators have a few options we don’t.  they have huge refrigerators to store their cakes in, and refrigerated vehicles that they can use to deliver decorated cakes. i even know a few that refuse to deliver at all. if you want their cake, you come and get it and it’s your responsibility if it melts.  these decorators don’t even turn on their ovens for a wedding cake for less than $2000.  \\r\\n\\r\\nthe following recipes for buttercream icing hold up pretty well in the heat and humidity, but if you know that your cake will be out in very high temperatures, then don’t use any butter and use only a high quality shortening.  \\r\\n\\r\\nshortening:  \\r\\n\\r\\nsolid shortenings definitely have their place in baking. so i’m going to talk taste tests. crisco is the hands down winner. it has a clean taste with the melting point of 106 degrees. butter melts somewhere between 88 and 98 degrees f. depending on the amount of fat in the brand.  you can see that if you need to serve a pure buttercream decorated cake, on a hot august afternoon, you could have melted roses (and i do mean greasy puddles) on the tablecloth. this is when a good quality shortening will be a great blessing. i have been told by decorator friends that some of the warehouse brand shortenings leave a grainy consistency to the icing no matter what you do.  \\r\\n\\r\\npowdered (confectioner's) sugar:  \\r\\n\\r\\nregarding powdered sugar. please use a cane sugar. i prefer c&amp;h powdered (confectioners) sugar.  many of the cheaper brands use sugar beets for their base.  i don’t know the chemistry behind it but you definitely get different textures to your icing that can vary from batch to batch.  i spent a few months being very frustrated with the quality of my icing until a kind lady did a bit of trouble shooting for me. she recommended the cane sugar and i’ve been blessing her ever since.\\r\\n\\r\\ntop-quality brands:  \\r\\n\\r\\nplease be safe, buy a quality brands and then stick with it for the best results. a friend of mine, who is a wonderful cook and baker, travels a lot and she often prepares treats for her hosts. she’s learned to ask the host to have her favorite shortening and flour on hand. she has even made up a little makeup type case that carries her favorite extracts and precious spices. that way she knows what she is working with, how it handles, and what tastes she can expect for the finished product. some surprises are not pleasant. \\r\\n\\r\\nstoring buttercream icing: \\r\\n\\r\\nif you are not going to be using the icing right away, place it in a clean, sealable bowl. store it in the refrigerator but please don’t place it next to the marinating salmon, garlic or broccoli.  you do not want those flavors in your icing!  i like to use my icing within a few days but it will hold in the cold refrigerator for a couple of weeks if necessary.  \\r\\n\\r\\ni often make a double batch of icing the night before i have a baking project.  that way i know that i have plenty of icing, it’s fresh and i don’t have to make it while i’m in the middle of baking the cakes.  the extra can always be used for a batch of cupcakes.\\r\\n\\r\\nwhen you remove the icing from the refrigerator, you might notice that the icing has taken on a sponge like texture. do yourself a favor and place the icing in a bowl and mix by hand using a back and forth, smashing motion with a spoon or icing spatula. what you want to do is to smash the bubbles out of the icing. this extra step will help to give you the smoothest icing for a pretty top and sides of the cake. i have found that you will get an even better texture of icing if it is at room temperature before you try to do your icing.\\r\\n\\r\\nbad buttercream icing days:  \\r\\n\\r\\none thing that seems very silly but is true. there are bad buttercream days! i’ve asked quite a few decorators about this and every one says “yes, there are lousy days”. i’m not sure what causes the problem. \\r\\n\\r\\nit could be that every human has bad days so they blame the buttercream. \\r\\n\\r\\nit may be the humidity or that there is a low pressure system hanging over your town. \\r\\n\\r\\ni just know why but it is a perceived fact. the way i have handled the problem is that i changed the decoration on the cake.  i couldn’t get the smooth top or sides as i originally planned. writing a greeting on a messy top would look awful so i changed the design idea and put flowers everywhere. i could have also done a basket weave technique around the sides. just go with the flow, and don’t get frustrated. aunt martha won’t chuck the cake at you if you don’t write her name on the top this time. remember that you are creating something that is to be eaten so have fun with it.  \\r\\n\\r\\ndifferent mixers:\\r\\n\\r\\nif you have a heavy duty counter mixer, you can prepare a whole batch at one time.  if you are using a hand mixer, divide the recipe in half.  if you notice the mixer getting hot, please stop and let the machine cool off.\\r\\n\\r\\ni also prefer to mix the buttercream on a low setting. it seems that the higher setting do the job faster but you also will get a spongy texture to the icing. i don’t want that quality in my final ice coating or flowers on the cake. \\r\\n\\r\\nusing weight scales:\\r\\n\\r\\n1 cup of crisco weighs 6 ounces.  \\r\\n\\r\\ni put a piece of wax paper on my scale and start plopping spoons of shortening on until i get the desired weight. it really saves on the cleanup.  \\r\\n\\r\\n\\r\\n\\r\\nrecipe from peggy at whatscookingamerica.net</td>\n",
       "      <td>NaN</td>\n",
       "      <td>76</td>\n",
       "    </tr>\n",
       "    <tr>\n",
       "      <th>481</th>\n",
       "      <td>alligator claws  avocado fritters  with chipotle lime dip</td>\n",
       "      <td>287008</td>\n",
       "      <td>45</td>\n",
       "      <td>765354</td>\n",
       "      <td>2008-02-19</td>\n",
       "      <td>NaN</td>\n",
       "      <td>a translucent golden-brown crust allows the green of the avocado to be seen.  the crispy exterior is a counterpoint to the unctuous interior.  these are a signature dish for me, and the one i most often get requests to make (although my seafood and ricotta stuffed buckwheat pancakes run a close second).\\r\\n\\r\\nthese fritters came about ten years ago when i was shopping for a dinner i was making for a friend who is a cia-trained chef.  i was in a vegetable market and saw these gorgeous avocados that i just knew would be ripe in the next two days.  i tried to think of what i could do with them since a) everyone serves cold avocado, and b) i really am not fond of guacamole.  as i tried to think of what i could make with them that was hot, the work 'fritters' jumped into my head.  having never made a fritter before, i was a little surprised to have that thought; but having never known when a vegetable was going to be ripe before i figured i was on a roll and decided to go for it.\\r\\n\\r\\nto serve with my never-before-tried-fritters, i decided to make a crème fraîche-lime-cayenne dipping sauce.  so i made fresh crème fraîche, and used it as a base not only for this dip, but for a tia maria sauce to go with the flourless chocolate cake i made for dessert (another never-before made item, but with the recipe from cook's illustrated it was the only thing i wasn't making up as i went along).\\r\\n\\r\\nthe result of the fritters was that i got to taste the test fritter, then had to dive across the couch before the last one was devoured in order to have a second.\\r\\n\\r\\nthe one evolution in the recipe is the change from cayenne to chipotle in the dip.  i like the smokiness, and it gives a rough edge to something very smooth - i am all about contrast.  feel free to use whatever chile or combination thereof that you like best.  this dip is easy and stands on it's own at a party for anything you want to dip into it.  i have also made it with vegan sour cream with great results.\\r\\n\\r\\nthe name alligator claws comes from an alternate name for the avocado: the alligator pear, as well as the fact that the wedges of avocado look like claws.\\r\\n\\r\\n(for those not familiar with the name alligator pear, it derives from both the tough, textured exterior - reminiscent of an alligator's hide, and the fact that you really can't eat one until it softens - just like a pear.)\\r\\n\\r\\nalligator claws are also a great name to call them if you have kids who either won't eat anything that sounds weird and you want to keep them to yourself, or - if you want your kids to eat them - if you have kids who'll only eat things that will gross other people out.\\r\\n\\r\\nif you are preparing these for kids (and i recommend you do whatever name you choose to call them), protect their palates and tone down the heat of the sauce.  maybe skip the chiles altogether and put in just a hint of finely ground pepper (white pepper won't look like black specks throughout the dip - i'm normally not that fussy, but it's something kids will notice).\\r\\n\\r\\nallow half an avocado per person.  this is so rich that more is too much.\\r\\n\\r\\nnote:\\r\\nyou can easily cut the recipe in half, all the batter is is a one-to-one mix of flour &amp; water (someone has suggested trying tempura batter which comes in a mix at many supermarkets - i tend to be a from-scratch kind of guy.  or do i just mean itchy?).\\r\\n\\r\\nenjoy.\\r\\n\\r\\n-- text by michael david winter, aka the poker roach</td>\n",
       "      <td>9.0</td>\n",
       "      <td>27</td>\n",
       "    </tr>\n",
       "    <tr>\n",
       "      <th>22566</th>\n",
       "      <td>rich barley mushroom soup</td>\n",
       "      <td>328708</td>\n",
       "      <td>60</td>\n",
       "      <td>221776</td>\n",
       "      <td>2008-10-03</td>\n",
       "      <td>NaN</td>\n",
       "      <td>this is one of the best soups i've ever made and it is even worthy of company.  so simple, yet rich in deep, mushroomy flavor.  the inspiration was zaar #26877, a delicious mushroom rice casserole.  i found i couldn't stop eating the liquid before putting the casserole into the oven and that gave me the idea that the base  would make a delicious soup.  and it does! \\r\\nuse plenty of fresh mushrooms.  i buy them when they are marked 1/2 price at the grocery, as this is a good way to use your 'shrooms that are starting to get dark.  it is the soy sauce that transforms the broth from ho-hum to yum.  i try to use low sodium or home-made no sodium chicken broth so that i can use the soy for the sodium.  there is no sense of \"asian\" in this soup at all.  ( i would not make this without the soy. )  just a little bit adds the depth of flavor and even color that transforms the soup.\\r\\n\\r\\nnotes:\\r\\n1. if you want to make it into \"cream of\" just add some evaporated milk...delicious. \\r\\n\\r\\n2.  once i broke up a leftover ground sirloin burger into my soup bowl and nuked it...was that ever good.\\r\\n\\r\\n3. i did do this recipe with sinewy beef scraps cut from a roast once.  i browned the beef in the bottom of the pan, added the butter and onions and continued as written.  the beef added great color and flavor.  in this case, i threw the beef piece away, because it had too much sinew, but it was a great addition!  i ended up using less soy.\\r\\n\\r\\n4.  i have eye-ball made this soup with amounts i had in the fridge/cupboard and it was great.  so if you don't have that many mushrooms, make it anyway, just keep tasting it until it tastes good to you! \\r\\n\\r\\n5.  i've made it without food-processing the onions, and that worked just as well.\\r\\n\\r\\n lots of flexibility here!  try it, it might be the best barley mushroom soup you've ever had!</td>\n",
       "      <td>10.0</td>\n",
       "      <td>24</td>\n",
       "    </tr>\n",
       "    <tr>\n",
       "      <th>6779</th>\n",
       "      <td>chocolate tea</td>\n",
       "      <td>205348</td>\n",
       "      <td>6</td>\n",
       "      <td>428824</td>\n",
       "      <td>2007-01-14</td>\n",
       "      <td>NaN</td>\n",
       "      <td>i wrote this because there are an astounding lack of chocolate tea recipes on the internet. \\r\\n\\r\\n the first time i heard about chocolate tea was doing a web search on chocolate. there seem to be a few companies out there who sell chocolate tea. i like to stay up late and had run out of coffee. i was in real need for a good tasting caffene beverage. i first thought chocolate tea would be yucky. we are conditioned to accept chocolate with coffee as a rule but not tea. i was very mistaken! \\r\\n\\r\\n tea and chocolate goes very well with each other and it is also very good for your body. both tea and chocolate are loaded with antioxidents. you may however not want to give this to small children because of the caffene. \\r\\n\\r\\n not having a recipe to follow, i created one. (this one) i used these ingredients because i had them on hand and it was quicker than hunting around for my pepermint extract or messing with my powered cocoa.\\r\\n\\r\\n this being said, if you do want to use powered cocoa or pepermint extract instead of the ovaltine and lifesavers please do so. experiment. this recipe is \"opensource\" :-)\\r\\n\\r\\n you will have to adjust the sugar levels to taste. if you like you can even omit the mints. i used them and i find it gives the beverage that spceial something.\\r\\n\\r\\nthis recipe makes one large coffee cup of beverage.\\r\\n\\r\\nif you use regular size coffee cups you may get two servings out of this if serving each person one serving each.\\r\\n\\r\\nto serve 1 serving each to 2 or 3 people using large coffee cups, double or tripple the recipie accodingly\\r\\n\\r\\nenjoy !\\r\\n\\r\\nplease let me klnow if you like it! :-)</td>\n",
       "      <td>NaN</td>\n",
       "      <td>23</td>\n",
       "    </tr>\n",
       "    <tr>\n",
       "      <th>16296</th>\n",
       "      <td>little bunny foo foo cake  carrot cake  with cream cheese frosti</td>\n",
       "      <td>316000</td>\n",
       "      <td>68</td>\n",
       "      <td>689540</td>\n",
       "      <td>2008-07-27</td>\n",
       "      <td>14.0</td>\n",
       "      <td>the first time i made this cake i grated a million pounds of carrots on a knucklebuster.  then they invented cuisinarts!  now it is much faster to shred the carrots on a fine shredding disk and no bloody knuckles!  i have baked it in 8\", 9\", 9x13\" pans so if you want to experiment with pan size it works.  one thing i found was baking and stacking the three layers is tricky.  my favorite way is two 8\" pans for a nice layer cake and an 8\" square pan to put into the freezer for unexpected company. i hope you try this wonderful cake.  update:  in the spirit of carrot cake stories, this cake was invented by a bunny named foo-foo.  he is very famous and even has a hit song which goes like this: sing to the tune of 'down by the station'..........     \\r\\n\\r\\n\\r\\n little bunny foo foo,\\r\\nhopping through the forest,\\r\\nscooping up the field mice,\\r\\nand boppin' 'em on the head.\\r\\n\\r\\ndown came the good fairy and she said - \\r\\n\\r\\n\"little bunny foo foo,\\r\\ni don't want to see you,\\r\\nscooping up the field mice,\\r\\nand boppin' 'em on the head.\\r\\ni'll give you three chances,\\r\\nand if you don't behave ...\\r\\ni'll turn you into a goon!\"\\r\\n\\r\\nthe next day:\\r\\n\\r\\nlittle bunny foo foo,\\r\\nhopping through the forest,\\r\\nscooping up the field mice,\\r\\nand boppin' 'em on the head.\\r\\n\\r\\ndown came the good fairy and she said:\\r\\n\\r\\n\"little bunny foo foo,\\r\\ni don't want to see you.\\r\\nscooping up the field mice.\\r\\nand boppin' 'em on the head.\\r\\ni'll give you two more chances,\\r\\nand if you don't behave...\\r\\ni'll turn you into a goon!\"\\r\\n\\r\\nthe next day:\\r\\n\\r\\nlittle bunny foo foo,\\r\\nhopping through the forest,\\r\\nscooping up the field mice,\\r\\nand boppin' 'em on the head.\\r\\n\\r\\ndown came the good fairy and she said:\\r\\n\\r\\n\"little bunny foo foo,\\r\\ni don't want to see you,\\r\\nscooping up the field mice,\\r\\nand boppin' 'em on the head.\\r\\ni'll give you one more chance,\\r\\nand if you don't behave..........\\r\\ni'll turn you into a goon!\"\\r\\n\\r\\nthe next day:\\r\\n\\r\\nlittle bunny foo foo,\\r\\nhopping through the forest,\\r\\nscooping up the field mice,\\r\\nand boppin' 'em on the head,\\r\\n\\r\\ndown came the good fairy and she said\\r\\n\\r\\n\"little bunny foo foo,\\r\\ni don't want to see you,\\r\\nscooping up the field mice,\\r\\nand boppin' 'em on the head.\\r\\ni gave you three chances\\r\\nand you didn't behave\\r\\nnow you're a goon! poof!!\"\\r\\n\\r\\nthe moral of the story is:\\r\\nhare today, goon tomorrow</td>\n",
       "      <td>NaN</td>\n",
       "      <td>23</td>\n",
       "    </tr>\n",
       "  </tbody>\n",
       "</table>\n",
       "</div>"
      ],
      "text/plain": [
       "                                                                   name      id  minutes  contributor_id   submitted  n_steps                                                                                                                                                                                                                                                                                                                                                                                                                                                                                                                                                                                                                                                                                                                                                                                                                                                                                                                                                                                                                                                                                                                                                                                                                                                                                                                                                                                                                                                                                                                                                                                                                                                                                                                                                                                                                                                                                                                                                                                                                                                                                                                                                                                                                                                                                                                                                                                                                                                                                                                                                                                                                                                                                                                                                                                                                                                                                                                                                                                                                                                                                                                                                                                                                                                                                                                                                                                                                                                                                                                                                                                                                                                                                                                                                                                                                                                                                                                                                                                                                                                                                                                                                                                                                                                                                                                                                                                                                                                                                                                                                                                                                                                                                                                                                                                                                                                                                                                                                                                                                                                                                                                                                                                                                                                                                                                                                                                                                                                                                                                                                                                                                                                                                                                                                                                                                                                                                                                                                                                                                                                                                                                                                                                                                                                                                                                                                                                                                                                                                                                                                                                                                                                                                    description  n_ingredients  n_sent\n",
       "18408                      my favorite buttercream icing for decorating  334113       30          681465  2008-10-30     12.0  this wonderful icing is used for icing cakes and cookies as well as for borders and art work on cakes.  it makes a delicious filling also between the layers of cakes and under fondant icing.  you can make roses but it takes 3 or more days to dry them depending on the humidity. \\r\\n\\r\\nthere are many versions of “buttercream” icing. some are made with eggs and all butter.  some varieties, you have to cook your sugar to a softball stage.  others are 100% shortening or a combination of shortening and butter.\\r\\n\\r\\neach decorator has his or her favorite.  i personally think that the best taste and textured recipe is the one that has you cook your sugar, add to whipped eggs and use pounds of butter per batch. but…. i live in a state that can easily be a 100 degrees for days on end during the summer and you know what butter does on hot days.  it melts!  a greasy puddle of melted icing on a cake plate is not something i want to look at or eat.  \\r\\n\\r\\nyour top notch decorators have a few options we don’t.  they have huge refrigerators to store their cakes in, and refrigerated vehicles that they can use to deliver decorated cakes. i even know a few that refuse to deliver at all. if you want their cake, you come and get it and it’s your responsibility if it melts.  these decorators don’t even turn on their ovens for a wedding cake for less than $2000.  \\r\\n\\r\\nthe following recipes for buttercream icing hold up pretty well in the heat and humidity, but if you know that your cake will be out in very high temperatures, then don’t use any butter and use only a high quality shortening.  \\r\\n\\r\\nshortening:  \\r\\n\\r\\nsolid shortenings definitely have their place in baking. so i’m going to talk taste tests. crisco is the hands down winner. it has a clean taste with the melting point of 106 degrees. butter melts somewhere between 88 and 98 degrees f. depending on the amount of fat in the brand.  you can see that if you need to serve a pure buttercream decorated cake, on a hot august afternoon, you could have melted roses (and i do mean greasy puddles) on the tablecloth. this is when a good quality shortening will be a great blessing. i have been told by decorator friends that some of the warehouse brand shortenings leave a grainy consistency to the icing no matter what you do.  \\r\\n\\r\\npowdered (confectioner's) sugar:  \\r\\n\\r\\nregarding powdered sugar. please use a cane sugar. i prefer c&h powdered (confectioners) sugar.  many of the cheaper brands use sugar beets for their base.  i don’t know the chemistry behind it but you definitely get different textures to your icing that can vary from batch to batch.  i spent a few months being very frustrated with the quality of my icing until a kind lady did a bit of trouble shooting for me. she recommended the cane sugar and i’ve been blessing her ever since.\\r\\n\\r\\ntop-quality brands:  \\r\\n\\r\\nplease be safe, buy a quality brands and then stick with it for the best results. a friend of mine, who is a wonderful cook and baker, travels a lot and she often prepares treats for her hosts. she’s learned to ask the host to have her favorite shortening and flour on hand. she has even made up a little makeup type case that carries her favorite extracts and precious spices. that way she knows what she is working with, how it handles, and what tastes she can expect for the finished product. some surprises are not pleasant. \\r\\n\\r\\nstoring buttercream icing: \\r\\n\\r\\nif you are not going to be using the icing right away, place it in a clean, sealable bowl. store it in the refrigerator but please don’t place it next to the marinating salmon, garlic or broccoli.  you do not want those flavors in your icing!  i like to use my icing within a few days but it will hold in the cold refrigerator for a couple of weeks if necessary.  \\r\\n\\r\\ni often make a double batch of icing the night before i have a baking project.  that way i know that i have plenty of icing, it’s fresh and i don’t have to make it while i’m in the middle of baking the cakes.  the extra can always be used for a batch of cupcakes.\\r\\n\\r\\nwhen you remove the icing from the refrigerator, you might notice that the icing has taken on a sponge like texture. do yourself a favor and place the icing in a bowl and mix by hand using a back and forth, smashing motion with a spoon or icing spatula. what you want to do is to smash the bubbles out of the icing. this extra step will help to give you the smoothest icing for a pretty top and sides of the cake. i have found that you will get an even better texture of icing if it is at room temperature before you try to do your icing.\\r\\n\\r\\nbad buttercream icing days:  \\r\\n\\r\\none thing that seems very silly but is true. there are bad buttercream days! i’ve asked quite a few decorators about this and every one says “yes, there are lousy days”. i’m not sure what causes the problem. \\r\\n\\r\\nit could be that every human has bad days so they blame the buttercream. \\r\\n\\r\\nit may be the humidity or that there is a low pressure system hanging over your town. \\r\\n\\r\\ni just know why but it is a perceived fact. the way i have handled the problem is that i changed the decoration on the cake.  i couldn’t get the smooth top or sides as i originally planned. writing a greeting on a messy top would look awful so i changed the design idea and put flowers everywhere. i could have also done a basket weave technique around the sides. just go with the flow, and don’t get frustrated. aunt martha won’t chuck the cake at you if you don’t write her name on the top this time. remember that you are creating something that is to be eaten so have fun with it.  \\r\\n\\r\\ndifferent mixers:\\r\\n\\r\\nif you have a heavy duty counter mixer, you can prepare a whole batch at one time.  if you are using a hand mixer, divide the recipe in half.  if you notice the mixer getting hot, please stop and let the machine cool off.\\r\\n\\r\\ni also prefer to mix the buttercream on a low setting. it seems that the higher setting do the job faster but you also will get a spongy texture to the icing. i don’t want that quality in my final ice coating or flowers on the cake. \\r\\n\\r\\nusing weight scales:\\r\\n\\r\\n1 cup of crisco weighs 6 ounces.  \\r\\n\\r\\ni put a piece of wax paper on my scale and start plopping spoons of shortening on until i get the desired weight. it really saves on the cleanup.  \\r\\n\\r\\n\\r\\n\\r\\nrecipe from peggy at whatscookingamerica.net            NaN      76\n",
       "481           alligator claws  avocado fritters  with chipotle lime dip  287008       45          765354  2008-02-19      NaN                                                                                                                                                                                                                                                                                                                                                                                                                                                                                                                                                                                                                                                                                                                                                                                                                                                                                                                                                                                                                                                                                                                                                                                                                                                                                                                                                                                                                                                                                                                                                                                                                                                                                                                                                                                                                                                                                                                                                                                                                                                                                                                                                                                                                                                                                                                                                                                                                                                                                                                                                                                                                                                                                                                                                                                                                                                                                                                                                                                                                                                                                        a translucent golden-brown crust allows the green of the avocado to be seen.  the crispy exterior is a counterpoint to the unctuous interior.  these are a signature dish for me, and the one i most often get requests to make (although my seafood and ricotta stuffed buckwheat pancakes run a close second).\\r\\n\\r\\nthese fritters came about ten years ago when i was shopping for a dinner i was making for a friend who is a cia-trained chef.  i was in a vegetable market and saw these gorgeous avocados that i just knew would be ripe in the next two days.  i tried to think of what i could do with them since a) everyone serves cold avocado, and b) i really am not fond of guacamole.  as i tried to think of what i could make with them that was hot, the work 'fritters' jumped into my head.  having never made a fritter before, i was a little surprised to have that thought; but having never known when a vegetable was going to be ripe before i figured i was on a roll and decided to go for it.\\r\\n\\r\\nto serve with my never-before-tried-fritters, i decided to make a crème fraîche-lime-cayenne dipping sauce.  so i made fresh crème fraîche, and used it as a base not only for this dip, but for a tia maria sauce to go with the flourless chocolate cake i made for dessert (another never-before made item, but with the recipe from cook's illustrated it was the only thing i wasn't making up as i went along).\\r\\n\\r\\nthe result of the fritters was that i got to taste the test fritter, then had to dive across the couch before the last one was devoured in order to have a second.\\r\\n\\r\\nthe one evolution in the recipe is the change from cayenne to chipotle in the dip.  i like the smokiness, and it gives a rough edge to something very smooth - i am all about contrast.  feel free to use whatever chile or combination thereof that you like best.  this dip is easy and stands on it's own at a party for anything you want to dip into it.  i have also made it with vegan sour cream with great results.\\r\\n\\r\\nthe name alligator claws comes from an alternate name for the avocado: the alligator pear, as well as the fact that the wedges of avocado look like claws.\\r\\n\\r\\n(for those not familiar with the name alligator pear, it derives from both the tough, textured exterior - reminiscent of an alligator's hide, and the fact that you really can't eat one until it softens - just like a pear.)\\r\\n\\r\\nalligator claws are also a great name to call them if you have kids who either won't eat anything that sounds weird and you want to keep them to yourself, or - if you want your kids to eat them - if you have kids who'll only eat things that will gross other people out.\\r\\n\\r\\nif you are preparing these for kids (and i recommend you do whatever name you choose to call them), protect their palates and tone down the heat of the sauce.  maybe skip the chiles altogether and put in just a hint of finely ground pepper (white pepper won't look like black specks throughout the dip - i'm normally not that fussy, but it's something kids will notice).\\r\\n\\r\\nallow half an avocado per person.  this is so rich that more is too much.\\r\\n\\r\\nnote:\\r\\nyou can easily cut the recipe in half, all the batter is is a one-to-one mix of flour & water (someone has suggested trying tempura batter which comes in a mix at many supermarkets - i tend to be a from-scratch kind of guy.  or do i just mean itchy?).\\r\\n\\r\\nenjoy.\\r\\n\\r\\n-- text by michael david winter, aka the poker roach            9.0      27\n",
       "22566                                         rich barley mushroom soup  328708       60          221776  2008-10-03      NaN                                                                                                                                                                                                                                                                                                                                                                                                                                                                                                                                                                                                                                                                                                                                                                                                                                                                                                                                                                                                                                                                                                                                                                                                                                                                                                                                                                                                                                                                                                                                                                                                                                                                                                                                                                                                                                                                                                                                                                                                                                                                                                                                                                                                                                                                                                                                                                                                                                                                                                                                                                                                                                                                                                                                                                                                                                                                                                                                                                                                                                                                                                                                                                                                                                                                                                                                                                                                                                                                                                                                                                                                                                                                                                                                                                                                                                                                                                                                                                                                                                                                                                                                                                                                                                                                                                                                                                                                                                                                                                                                                                                                                                                                                                                                                               this is one of the best soups i've ever made and it is even worthy of company.  so simple, yet rich in deep, mushroomy flavor.  the inspiration was zaar #26877, a delicious mushroom rice casserole.  i found i couldn't stop eating the liquid before putting the casserole into the oven and that gave me the idea that the base  would make a delicious soup.  and it does! \\r\\nuse plenty of fresh mushrooms.  i buy them when they are marked 1/2 price at the grocery, as this is a good way to use your 'shrooms that are starting to get dark.  it is the soy sauce that transforms the broth from ho-hum to yum.  i try to use low sodium or home-made no sodium chicken broth so that i can use the soy for the sodium.  there is no sense of \"asian\" in this soup at all.  ( i would not make this without the soy. )  just a little bit adds the depth of flavor and even color that transforms the soup.\\r\\n\\r\\nnotes:\\r\\n1. if you want to make it into \"cream of\" just add some evaporated milk...delicious. \\r\\n\\r\\n2.  once i broke up a leftover ground sirloin burger into my soup bowl and nuked it...was that ever good.\\r\\n\\r\\n3. i did do this recipe with sinewy beef scraps cut from a roast once.  i browned the beef in the bottom of the pan, added the butter and onions and continued as written.  the beef added great color and flavor.  in this case, i threw the beef piece away, because it had too much sinew, but it was a great addition!  i ended up using less soy.\\r\\n\\r\\n4.  i have eye-ball made this soup with amounts i had in the fridge/cupboard and it was great.  so if you don't have that many mushrooms, make it anyway, just keep tasting it until it tastes good to you! \\r\\n\\r\\n5.  i've made it without food-processing the onions, and that worked just as well.\\r\\n\\r\\n lots of flexibility here!  try it, it might be the best barley mushroom soup you've ever had!           10.0      24\n",
       "6779                                                      chocolate tea  205348        6          428824  2007-01-14      NaN                                                                                                                                                                                                                                                                                                                                                                                                                                                                                                                                                                                                                                                                                                                                                                                                                                                                                                                                                                                                                                                                                                                                                                                                                                                                                                                                                                                                                                                                                                                                                                                                                                                                                                                                                                                                                                                                                                                                                                                                                                                                                                                                                                                                                                                                                                                                                                                                                                                                                                                                                                                                                                                                                                                                                                                                                                                                                                                                                                                                                                                                                                                                                                                                                                                                                                                                                                                                                                                                                                                                                                                                                                                                                                                                                                                                                                                                                                                                                                                                                                                                                                                                                                                                                                                                                                                                                                                                                                                                                                                                                                                                                                                                                                                                                                                                                                                                                                                                                                                  i wrote this because there are an astounding lack of chocolate tea recipes on the internet. \\r\\n\\r\\n the first time i heard about chocolate tea was doing a web search on chocolate. there seem to be a few companies out there who sell chocolate tea. i like to stay up late and had run out of coffee. i was in real need for a good tasting caffene beverage. i first thought chocolate tea would be yucky. we are conditioned to accept chocolate with coffee as a rule but not tea. i was very mistaken! \\r\\n\\r\\n tea and chocolate goes very well with each other and it is also very good for your body. both tea and chocolate are loaded with antioxidents. you may however not want to give this to small children because of the caffene. \\r\\n\\r\\n not having a recipe to follow, i created one. (this one) i used these ingredients because i had them on hand and it was quicker than hunting around for my pepermint extract or messing with my powered cocoa.\\r\\n\\r\\n this being said, if you do want to use powered cocoa or pepermint extract instead of the ovaltine and lifesavers please do so. experiment. this recipe is \"opensource\" :-)\\r\\n\\r\\n you will have to adjust the sugar levels to taste. if you like you can even omit the mints. i used them and i find it gives the beverage that spceial something.\\r\\n\\r\\nthis recipe makes one large coffee cup of beverage.\\r\\n\\r\\nif you use regular size coffee cups you may get two servings out of this if serving each person one serving each.\\r\\n\\r\\nto serve 1 serving each to 2 or 3 people using large coffee cups, double or tripple the recipie accodingly\\r\\n\\r\\nenjoy !\\r\\n\\r\\nplease let me klnow if you like it! :-)            NaN      23\n",
       "16296  little bunny foo foo cake  carrot cake  with cream cheese frosti  316000       68          689540  2008-07-27     14.0                                                                                                                                                                                                                                                                                                                                                                                                                                                                                                                                                                                                                                                                                                                                                                                                                                                                                                                                                                                                                                                                                                                                                                                                                                                                                                                                                                                                                                                                                                                                                                                                                                                                                                                                                                                                                                                                                                                                                                                                                                                                                                                                                                                                                                                                                                                                                                                                                                                                                                                                                                                                                                                                                                                                                                                                                                                                                                                                                                                                                                                                                                                                                                                                                                                                                                                                                                                                                                                                                                                                                                                                                                                                                                                                                                                                                                                                                                                                                                                                                                                                                                                                                                          the first time i made this cake i grated a million pounds of carrots on a knucklebuster.  then they invented cuisinarts!  now it is much faster to shred the carrots on a fine shredding disk and no bloody knuckles!  i have baked it in 8\", 9\", 9x13\" pans so if you want to experiment with pan size it works.  one thing i found was baking and stacking the three layers is tricky.  my favorite way is two 8\" pans for a nice layer cake and an 8\" square pan to put into the freezer for unexpected company. i hope you try this wonderful cake.  update:  in the spirit of carrot cake stories, this cake was invented by a bunny named foo-foo.  he is very famous and even has a hit song which goes like this: sing to the tune of 'down by the station'..........     \\r\\n\\r\\n\\r\\n little bunny foo foo,\\r\\nhopping through the forest,\\r\\nscooping up the field mice,\\r\\nand boppin' 'em on the head.\\r\\n\\r\\ndown came the good fairy and she said - \\r\\n\\r\\n\"little bunny foo foo,\\r\\ni don't want to see you,\\r\\nscooping up the field mice,\\r\\nand boppin' 'em on the head.\\r\\ni'll give you three chances,\\r\\nand if you don't behave ...\\r\\ni'll turn you into a goon!\"\\r\\n\\r\\nthe next day:\\r\\n\\r\\nlittle bunny foo foo,\\r\\nhopping through the forest,\\r\\nscooping up the field mice,\\r\\nand boppin' 'em on the head.\\r\\n\\r\\ndown came the good fairy and she said:\\r\\n\\r\\n\"little bunny foo foo,\\r\\ni don't want to see you.\\r\\nscooping up the field mice.\\r\\nand boppin' 'em on the head.\\r\\ni'll give you two more chances,\\r\\nand if you don't behave...\\r\\ni'll turn you into a goon!\"\\r\\n\\r\\nthe next day:\\r\\n\\r\\nlittle bunny foo foo,\\r\\nhopping through the forest,\\r\\nscooping up the field mice,\\r\\nand boppin' 'em on the head.\\r\\n\\r\\ndown came the good fairy and she said:\\r\\n\\r\\n\"little bunny foo foo,\\r\\ni don't want to see you,\\r\\nscooping up the field mice,\\r\\nand boppin' 'em on the head.\\r\\ni'll give you one more chance,\\r\\nand if you don't behave..........\\r\\ni'll turn you into a goon!\"\\r\\n\\r\\nthe next day:\\r\\n\\r\\nlittle bunny foo foo,\\r\\nhopping through the forest,\\r\\nscooping up the field mice,\\r\\nand boppin' 'em on the head,\\r\\n\\r\\ndown came the good fairy and she said\\r\\n\\r\\n\"little bunny foo foo,\\r\\ni don't want to see you,\\r\\nscooping up the field mice,\\r\\nand boppin' 'em on the head.\\r\\ni gave you three chances\\r\\nand you didn't behave\\r\\nnow you're a goon! poof!!\"\\r\\n\\r\\nthe moral of the story is:\\r\\nhare today, goon tomorrow            NaN      23"
      ]
     },
     "execution_count": 146,
     "metadata": {},
     "output_type": "execute_result"
    }
   ],
   "source": [
    "f = pd.read_csv('recipes_sample.csv')\n",
    "f['n_sent'] = f['description'].apply(lambda i: len(nltk.sent_tokenize(str(i))))\n",
    "f.nlargest(5, ['n_sent']) # выводим в порядке убывания длины"
   ]
  },
  {
   "cell_type": "markdown",
   "metadata": {},
   "source": [
    "8\\. Напишите функцию, которая для заданного предложения выводит информацию о частях речи слов, входящих в предложение, в следующем виде:\n",
    "```\n",
    "PRP   VBD   DT      NNS     CC   VBD      NNS        RB   \n",
    " I  omitted the raspberries and added strawberries instead\n",
    "``` \n",
    "Для определения части речи слова можно воспользоваться `nltk.pos_tag`.\n",
    "\n",
    "Проверьте работоспособность функции на названии рецепта с id 241106.\n",
    "\n",
    "Обратите внимание, что часть речи должна находиться ровно посередине над соотвествующим словом, а между самими словами должен быть ровно один пробел.\n"
   ]
  },
  {
   "cell_type": "code",
   "execution_count": 143,
   "metadata": {},
   "outputs": [
    {
     "data": {
      "text/plain": [
       "array(['eggplant steaks with chickpeas  feta cheese and black olives'],\n",
       "      dtype=object)"
      ]
     },
     "execution_count": 143,
     "metadata": {},
     "output_type": "execute_result"
    }
   ],
   "source": [
    "f = pd.read_csv('recipes_sample.csv')\n",
    "f[f['id'] == 241106]['name'].values"
   ]
  },
  {
   "cell_type": "code",
   "execution_count": 150,
   "metadata": {},
   "outputs": [
    {
     "name": "stdout",
     "output_type": "stream",
     "text": [
      "    JJ     NNS    IN     NNS    VBP    JJ   CC   JJ    NNS  \n",
      "eggplant steaks with chickpeas feta cheese and black olives \n"
     ]
    }
   ],
   "source": [
    "sent = 'eggplant steaks with chickpeas  feta cheese and black olives'\n",
    "def sent_tag(sent):\n",
    "  w = nltk.tag.pos_tag(nltk.word_tokenize(sent)) # определение части речи\n",
    "  up, down = '', ''\n",
    "  for i in w:\n",
    "    up += f' {i[1]: ^{len(i[0])}}' #части речи\n",
    "    down += i[0]+' ' # слова\n",
    "  return up+'\\n'+down\n",
    "print(sent_tag(sent))"
   ]
  },
  {
   "cell_type": "code",
   "execution_count": null,
   "metadata": {},
   "outputs": [],
   "source": []
  }
 ],
 "metadata": {
  "kernelspec": {
   "display_name": "Python 3 (ipykernel)",
   "language": "python",
   "name": "python3"
  },
  "language_info": {
   "codemirror_mode": {
    "name": "ipython",
    "version": 3
   },
   "file_extension": ".py",
   "mimetype": "text/x-python",
   "name": "python",
   "nbconvert_exporter": "python",
   "pygments_lexer": "ipython3",
   "version": "3.10.9"
  }
 },
 "nbformat": 4,
 "nbformat_minor": 4
}
