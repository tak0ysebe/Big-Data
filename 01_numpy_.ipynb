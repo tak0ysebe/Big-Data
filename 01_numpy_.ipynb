{
 "cells": [
  {
   "cell_type": "markdown",
   "metadata": {},
   "source": [
    "# Numpy"
   ]
  },
  {
   "cell_type": "markdown",
   "metadata": {},
   "source": [
    "Материалы:\n",
    "* Макрушин С.В. \"Лекция 1: Библиотека Numpy\"\n",
    "* https://numpy.org/doc/stable/user/index.html\n",
    "* https://numpy.org/doc/stable/reference/index.html"
   ]
  },
  {
   "cell_type": "markdown",
   "metadata": {},
   "source": [
    "## Задачи для совместного разбора"
   ]
  },
  {
   "cell_type": "markdown",
   "metadata": {},
   "source": [
    "1. Сгенерировать двухмерный массив `arr` размерности (4, 7), состоящий из случайных действительных чисел, равномерно распределенных в диапазоне от 0 до 20. Нормализовать значения массива с помощью преобразования вида  $𝑎𝑥+𝑏$  так, что после нормализации максимальный элемент масcива будет равен 1.0, минимальный 0.0"
   ]
  },
  {
   "cell_type": "code",
   "execution_count": 12,
   "metadata": {},
   "outputs": [
    {
     "data": {
      "text/plain": [
       "array([[0.89473684, 0.10526316, 0.26315789, 0.26315789],\n",
       "       [0.78947368, 0.42105263, 0.84210526, 0.05263158],\n",
       "       [0.78947368, 0.47368421, 0.        , 0.78947368],\n",
       "       [0.31578947, 0.73684211, 0.63157895, 1.        ],\n",
       "       [0.42105263, 0.31578947, 0.26315789, 0.84210526],\n",
       "       [0.63157895, 0.31578947, 0.15789474, 0.68421053],\n",
       "       [0.89473684, 0.31578947, 0.26315789, 0.94736842]])"
      ]
     },
     "execution_count": 12,
     "metadata": {},
     "output_type": "execute_result"
    }
   ],
   "source": [
    "import numpy as np\n",
    "from sympy import *\n",
    "from random import *\n",
    "init_printing()\n",
    "a = np.array([[randint(0,20) for i in range(4)] for j in range(7)])\n",
    "(a - np.min(a))/(np.max(a) - np.min(a))\n",
    "#a/np.linalg.norm(a)\n",
    "            \n",
    "        "
   ]
  },
  {
   "cell_type": "markdown",
   "metadata": {},
   "source": [
    "2. Создать матрицу 8 на 10 из случайных целых (используя модуль `numpy.random`) чисел из диапозона от 0 до 10 и найти в ней строку (ее индекс и вывести саму строку), в которой сумма значений минимальна."
   ]
  },
  {
   "cell_type": "code",
   "execution_count": 3,
   "metadata": {},
   "outputs": [
    {
     "data": {
      "text/plain": [
       "array([[10,  0,  0,  1,  4,  2,  4,  2],\n",
       "       [ 7,  5,  2,  6,  8,  0,  6, 10],\n",
       "       [ 7,  9, 10,  0,  3,  2,  6,  4],\n",
       "       [ 4,  3,  5,  4, 10,  9,  1,  5],\n",
       "       [ 5,  7,  2,  8, 10,  4,  1,  7],\n",
       "       [ 9,  3,  5,  4,  4,  3,  4,  6],\n",
       "       [ 1,  1,  6,  0,  9,  4,  1,  1],\n",
       "       [ 4,  0,  6,  4, 10,  8,  3,  6],\n",
       "       [ 3,  9,  0,  1,  0,  3,  8,  9],\n",
       "       [ 6,  6,  0,  4,  1,  5,  6,  6]])"
      ]
     },
     "execution_count": 3,
     "metadata": {},
     "output_type": "execute_result"
    }
   ],
   "source": [
    "Matrix = np.array([[randint(0,10) for i in range(8)] for j in range(10)])\n",
    "Matrix\n"
   ]
  },
  {
   "cell_type": "code",
   "execution_count": 4,
   "metadata": {},
   "outputs": [
    {
     "data": {
      "text/plain": [
       "(array([10,  0,  0,  1,  4,  2,  4,  2]), 0)"
      ]
     },
     "execution_count": 4,
     "metadata": {},
     "output_type": "execute_result"
    }
   ],
   "source": [
    "MIN = 100000000000000000000\n",
    "for i in range(len(Matrix)):\n",
    "    if sum(Matrix[i])<MIN: \n",
    "        MIN, k, t = sum(Matrix[i]), Matrix[i], i\n",
    "k,t"
   ]
  },
  {
   "cell_type": "markdown",
   "metadata": {},
   "source": [
    "3. Найти евклидово расстояние между двумя одномерными векторами одинаковой размерности."
   ]
  },
  {
   "cell_type": "code",
   "execution_count": 5,
   "metadata": {},
   "outputs": [
    {
     "data": {
      "image/png": "[encoded data removed]",
      "text/latex": [
       "$\\displaystyle 21.8403296678416$"
      ],
      "text/plain": [
       "21.840329667841555"
      ]
     },
     "execution_count": 5,
     "metadata": {},
     "output_type": "execute_result"
    }
   ],
   "source": [
    "a = np.random.randint(10,size = (1,20))\n",
    "b = np.random.randint(10,size = (1,20))\n",
    "r = np.linalg.norm(a-b)\n",
    "r"
   ]
  },
  {
   "cell_type": "markdown",
   "metadata": {},
   "source": [
    "4. Решить матричное уравнение `A*X*B=-C` - найти матрицу `X`. Где `A = [[-1, 2, 4], [-3, 1, 2], [-3, 0, 1]]`, `B=[[3, -1], [2, 1]]`, `C=[[7, 21], [11, 8], [8, 4]]`."
   ]
  },
  {
   "cell_type": "code",
   "execution_count": 15,
   "metadata": {},
   "outputs": [
    {
     "name": "stdout",
     "output_type": "stream",
     "text": [
      "[[ 1.  0.]\n",
      " [-2.  1.]\n",
      " [ 3. -4.]]\n"
     ]
    }
   ],
   "source": [
    "A = np.array(([[-1, 2, 4], [-3, 1, 2], [-3, 0, 1]]))\n",
    "B = np.array(([[3, -1], [2, 1]]))\n",
    "C = np.array(([[7, 21], [11, 8], [8, 4]]))\n",
    "AX = (C*(-1) @ np.linalg.inv(B))\n",
    "X = (np.linalg.inv(A) @ AX)\n",
    "print(np.around(X, decimals = 2))\n"
   ]
  },
  {
   "cell_type": "markdown",
   "metadata": {},
   "source": [
    "## Лабораторная работа №1"
   ]
  },
  {
   "cell_type": "markdown",
   "metadata": {},
   "source": [
    "Замечание: при решении данных задач не подразумевается использования циклов или генераторов Python, если в задании не сказано обратного. Решение должно опираться на использования функционала библиотеки `numpy`."
   ]
  },
  {
   "cell_type": "markdown",
   "metadata": {},
   "source": [
    "1. Файл `minutes_n_ingredients.csv` содержит информацию об идентификаторе рецепта, времени его выполнения в минутах и количестве необходимых ингредиентов. Считайте данные из этого файла в виде массива `numpy` типа `int32`, используя `np.loadtxt`. Выведите на экран первые 5 строк массива."
   ]
  },
  {
   "cell_type": "code",
   "execution_count": 40,
   "metadata": {},
   "outputs": [
    {
     "name": "stdout",
     "output_type": "stream",
     "text": [
      "[[127244     60     16]\n",
      " [ 23891     25      7]\n",
      " [ 94746     10      6]\n",
      " [ 67660      5      6]\n",
      " [157911     60     14]]\n"
     ]
    }
   ],
   "source": [
    "import numpy as np\n",
    "faile = np.loadtxt('minutes_n_ingredients.csv', delimiter=',', dtype='int32', skiprows = 1)\n",
    "print(faile[:5])"
   ]
  },
  {
   "cell_type": "markdown",
   "metadata": {},
   "source": [
    "2. Вычислите среднее значение, минимум, максимум и медиану по каждому из столбцов, кроме первого."
   ]
  },
  {
   "cell_type": "code",
   "execution_count": 41,
   "metadata": {},
   "outputs": [
    {
     "name": "stdout",
     "output_type": "stream",
     "text": [
      "Сред значение  [2.16010017e+04 9.05528000e+00]\n",
      "Мин значения  [0 1]\n",
      "Макс значения  [2147483647         39]\n",
      "Медианы  [40.  9.]\n"
     ]
    }
   ],
   "source": [
    "print('Сред значение ', np.mean(faile[:,1:],0))\n",
    "print('Мин значения ',np.min(faile[:,1:],0))\n",
    "print('Макс значения ',np.max(faile[:,1:],0))\n",
    "print('Медианы ',np.median(faile[:,1:],0))"
   ]
  },
  {
   "cell_type": "markdown",
   "metadata": {},
   "source": [
    "3. Ограничьте сверху значения продолжительности выполнения рецепта значением квантиля $q_{0.75}$. "
   ]
  },
  {
   "cell_type": "code",
   "execution_count": 49,
   "metadata": {},
   "outputs": [
    {
     "name": "stdout",
     "output_type": "stream",
     "text": [
      "65.0\n",
      "[[127244     60     16]\n",
      " [ 23891     25      7]\n",
      " [ 94746     10      6]\n",
      " ...\n",
      " [ 43407     35      7]\n",
      " [498432     65     15]\n",
      " [370915      5      4]]\n"
     ]
    }
   ],
   "source": [
    "Max = np.quantile(faile[:,1], 0.75, axis = 0)\n",
    "print(maxim)\n",
    "print(faile[faile[:,1]<=Max])\n"
   ]
  },
  {
   "cell_type": "markdown",
   "metadata": {},
   "source": [
    "4. Посчитайте, для скольких рецептов указана продолжительность, равная нулю. Замените для таких строк значение в данном столбце на 1."
   ]
  },
  {
   "cell_type": "code",
   "execution_count": 48,
   "metadata": {},
   "outputs": [
    {
     "name": "stdout",
     "output_type": "stream",
     "text": [
      "0\n"
     ]
    }
   ],
   "source": [
    "a = np.count_nonzero(faile[:,1] == 0)\n",
    "faile[faile[:,1]==0] = 1\n",
    "print( np.count_nonzero(faile[:,1] == 0))"
   ]
  },
  {
   "cell_type": "markdown",
   "metadata": {},
   "source": [
    "5. Посчитайте, сколько уникальных рецептов находится в датасете."
   ]
  },
  {
   "cell_type": "code",
   "execution_count": 50,
   "metadata": {},
   "outputs": [
    {
     "name": "stdout",
     "output_type": "stream",
     "text": [
      "99522\n"
     ]
    }
   ],
   "source": [
    "a = np.unique(faile[:,0])\n",
    "print(len(a))"
   ]
  },
  {
   "cell_type": "markdown",
   "metadata": {},
   "source": [
    "6. Сколько и каких различных значений кол-ва ингредиентов присутвует в рецептах из датасета?"
   ]
  },
  {
   "cell_type": "code",
   "execution_count": 51,
   "metadata": {},
   "outputs": [
    {
     "name": "stdout",
     "output_type": "stream",
     "text": [
      "[[    1   492]\n",
      " [    2   924]\n",
      " [    3  2884]\n",
      " [    4  5479]\n",
      " [    5  7874]\n",
      " [    6  9328]\n",
      " [    7 10579]\n",
      " [    8 10887]\n",
      " [    9 10542]\n",
      " [   10  9548]\n",
      " [   11  8262]\n",
      " [   12  6574]\n",
      " [   13  4985]\n",
      " [   14  3639]\n",
      " [   15  2583]\n",
      " [   16  1760]\n",
      " [   17  1237]\n",
      " [   18   787]\n",
      " [   19   566]\n",
      " [   20   376]\n",
      " [   21   214]\n",
      " [   22   161]\n",
      " [   23   105]\n",
      " [   24    68]\n",
      " [   25    50]\n",
      " [   26    28]\n",
      " [   27    16]\n",
      " [   28    16]\n",
      " [   29    12]\n",
      " [   30    12]\n",
      " [   31     3]\n",
      " [   32     1]\n",
      " [   33     2]\n",
      " [   34     1]\n",
      " [   35     3]\n",
      " [   37     1]\n",
      " [   39     1]]\n"
     ]
    }
   ],
   "source": [
    "a, num = np.unique(faile[:,2], return_counts=True)\n",
    "print(np.column_stack((a, num)))"
   ]
  },
  {
   "cell_type": "markdown",
   "metadata": {},
   "source": [
    "7. Создайте версию массива, содержащую информацию только о рецептах, состоящих не более чем из 5 ингредиентов."
   ]
  },
  {
   "cell_type": "code",
   "execution_count": 55,
   "metadata": {},
   "outputs": [
    {
     "name": "stdout",
     "output_type": "stream",
     "text": [
      "[[446597     15      5]\n",
      " [204134      5      3]\n",
      " [ 25623      6      4]\n",
      " ...\n",
      " [ 52088     60      5]\n",
      " [128811     15      4]\n",
      " [370915      5      4]]\n",
      "\n",
      "\n",
      " [[127244     60     16]\n",
      " [ 23891     25      7]\n",
      " [ 94746     10      6]\n",
      " ...\n",
      " [498432     65     15]\n",
      " [370915      5      4]\n",
      " [ 81993    140     14]]\n"
     ]
    }
   ],
   "source": [
    "arr = faile[faile[:,2]<=5]\n",
    "a = np.copy(arr)\n",
    "print(a)\n",
    "print('\\n\\n',faile)"
   ]
  },
  {
   "cell_type": "markdown",
   "metadata": {},
   "source": [
    "8. Для каждого рецепта посчитайте, сколько в среднем ингредиентов приходится на одну минуту рецепта. Найдите максимальное значение этой величины для всего датасета"
   ]
  },
  {
   "cell_type": "code",
   "execution_count": 57,
   "metadata": {},
   "outputs": [
    {
     "name": "stdout",
     "output_type": "stream",
     "text": [
      "23.0\n"
     ]
    }
   ],
   "source": [
    "a = faile[:,2]/faile[:,1]\n",
    "print(max(a))"
   ]
  },
  {
   "cell_type": "markdown",
   "metadata": {},
   "source": [
    "9. Вычислите среднее количество ингредиентов для топ-100 рецептов с наибольшей продолжительностью"
   ]
  },
  {
   "cell_type": "code",
   "execution_count": 58,
   "metadata": {},
   "outputs": [
    {
     "name": "stdout",
     "output_type": "stream",
     "text": [
      "6.61\n"
     ]
    }
   ],
   "source": [
    "a = faile[:,1].argsort()\n",
    "b = faile[a][-100:]\n",
    "print(np.mean(b[:,2], axis = 0))"
   ]
  },
  {
   "cell_type": "markdown",
   "metadata": {},
   "source": [
    "10. Выберите случайным образом и выведите информацию о 10 различных рецептах"
   ]
  },
  {
   "cell_type": "code",
   "execution_count": 59,
   "metadata": {},
   "outputs": [
    {
     "name": "stdout",
     "output_type": "stream",
     "text": [
      "[[203854      8      3]\n",
      " [  4114     15      7]\n",
      " [406258     45      8]\n",
      " [193195     63     16]\n",
      " [ 42352     55     12]\n",
      " [ 76655     18      6]\n",
      " [143913    330     18]\n",
      " [491647     60      7]\n",
      " [188015     55     10]\n",
      " [289521     75     10]]\n"
     ]
    }
   ],
   "source": [
    "a = np.random.randint(faile.shape[0], size = 10)\n",
    "print(faile[a])"
   ]
  },
  {
   "cell_type": "markdown",
   "metadata": {},
   "source": [
    "11. Выведите процент рецептов, кол-во ингредиентов в которых меньше среднего."
   ]
  },
  {
   "cell_type": "code",
   "execution_count": 60,
   "metadata": {},
   "outputs": [
    {
     "name": "stdout",
     "output_type": "stream",
     "text": [
      "[[ 23891     25      7]\n",
      " [ 94746     10      6]\n",
      " [ 67660      5      6]\n",
      " ...\n",
      " [371794     35      8]\n",
      " [ 43407     35      7]\n",
      " [370915      5      4]]\n",
      "----\n",
      "58.989\n"
     ]
    }
   ],
   "source": [
    "a = np.mean(faile[:,2], axis = 0)\n",
    "print(faile[faile[:,2]<a])\n",
    "print('----')\n",
    "print((100*len(faile[faile[:,2]<a]))/len(faile))"
   ]
  },
  {
   "cell_type": "markdown",
   "metadata": {},
   "source": [
    "12. Назовем \"простым\" такой рецепт, длительность выполнения которого не больше 20 минут и кол-во ингредиентов в котором не больше 5. Создайте версию датасета с дополнительным столбцом, значениями которого являются 1, если рецепт простой, и 0 в противном случае."
   ]
  },
  {
   "cell_type": "code",
   "execution_count": 61,
   "metadata": {},
   "outputs": [
    {
     "name": "stdout",
     "output_type": "stream",
     "text": [
      "[[127244     60     16      0]\n",
      " [ 23891     25      7      0]\n",
      " [ 94746     10      6      0]\n",
      " ...\n",
      " [498432     65     15      0]\n",
      " [     1      1      1      1]\n",
      " [ 81993    140     14      0]]\n"
     ]
    }
   ],
   "source": [
    "a = np.append(faile, np.zeros((faile.shape[0],1), dtype = 'int32'), axis = 1)\n",
    "a[np.logical_and(a[:,1]<=20,a[:,2]<=5)] = 1\n",
    "a = a.copy()\n",
    "print(a)"
   ]
  },
  {
   "cell_type": "markdown",
   "metadata": {},
   "source": [
    "13. Выведите процент \"простых\" рецептов в датасете"
   ]
  },
  {
   "cell_type": "code",
   "execution_count": 62,
   "metadata": {},
   "outputs": [
    {
     "name": "stdout",
     "output_type": "stream",
     "text": [
      "9.943\n"
     ]
    }
   ],
   "source": [
    "b = a[a[:,3] == 1]\n",
    "print((100*len(b)/len(faile)))"
   ]
  },
  {
   "cell_type": "markdown",
   "metadata": {},
   "source": [
    "14. Разделим рецепты на группы по следующему правилу. Назовем рецепты короткими, если их продолжительность составляет менее 10 минут; стандартными, если их продолжительность составляет более 10, но менее 20 минут; и длинными, если их продолжительность составляет не менее 20 минут. Создайте трехмерный массив, где нулевая ось отвечает за номер группы (короткий, стандартный или длинный рецепт), первая ось - за сам рецепт и вторая ось - за характеристики рецепта. Выберите максимальное количество рецептов из каждой группы таким образом, чтобы было возможно сформировать трехмерный массив. Выведите форму полученного массива."
   ]
  },
  {
   "cell_type": "code",
   "execution_count": 64,
   "metadata": {},
   "outputs": [
    {
     "name": "stdout",
     "output_type": "stream",
     "text": [
      "[[[[ 67660      5      6]\n",
      "   [366174      7      9]\n",
      "   [204134      5      3]\n",
      "   ...\n",
      "   [     1      1      1]\n",
      "   [420725      5      3]\n",
      "   [     1      1      1]]\n",
      "\n",
      "  [[ 94746     10      6]\n",
      "   [ 33941     18      9]\n",
      "   [446597     15      5]\n",
      "   ...\n",
      "   [107094     10      4]\n",
      "   [  9831     15      7]\n",
      "   [335859     12     14]]\n",
      "\n",
      "  [[127244     60     16]\n",
      "   [ 23891     25      7]\n",
      "   [157911     60     14]\n",
      "   ...\n",
      "   [ 92137     80      9]\n",
      "   [168901     25      7]\n",
      "   [392339     35     13]]]]\n"
     ]
    }
   ],
   "source": [
    "a1 = faile[faile[:,1]<10]\n",
    "a2 = faile[np.logical_and(faile[:,1]>=10, faile[:,1]<20)]\n",
    "a3 = faile[faile[:,1]>=20]\n",
    "maxim = min(len(a1), len(a2), len(a3))\n",
    "b = np.array([[a1[:maxim-1],a2[:maxim-1],a3[:maxim-1]]])\n",
    "print(b)"
   ]
  },
  {
   "cell_type": "code",
   "execution_count": null,
   "metadata": {},
   "outputs": [],
   "source": []
  }
 ],
 "metadata": {
  "kernelspec": {
   "display_name": "Python 3 (ipykernel)",
   "language": "python",
   "name": "python3"
  },
  "language_info": {
   "codemirror_mode": {
    "name": "ipython",
    "version": 3
   },
   "file_extension": ".py",
   "mimetype": "text/x-python",
   "name": "python",
   "nbconvert_exporter": "python",
   "pygments_lexer": "ipython3",
   "version": "3.9.7"
  }
 },
 "nbformat": 4,
 "nbformat_minor": 4
}
